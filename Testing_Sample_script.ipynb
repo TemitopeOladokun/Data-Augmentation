{
  "nbformat": 4,
  "nbformat_minor": 0,
  "metadata": {
    "colab": {
      "name": "Testing Sample script.ipynb",
      "provenance": [],
      "collapsed_sections": [],
      "authorship_tag": "ABX9TyOr47jixQWp0cEOciK0zS6X",
      "include_colab_link": true
    },
    "kernelspec": {
      "name": "python3",
      "display_name": "Python 3"
    }
  },
  "cells": [
    {
      "cell_type": "markdown",
      "metadata": {
        "id": "view-in-github",
        "colab_type": "text"
      },
      "source": [
        "<a href=\"https://colab.research.google.com/github/TemitopeOladokun/Data-Augmentation/blob/master/Testing_Sample_script.ipynb\" target=\"_parent\"><img src=\"https://colab.research.google.com/assets/colab-badge.svg\" alt=\"Open In Colab\"/></a>"
      ]
    },
    {
      "cell_type": "code",
      "metadata": {
        "id": "7axUqGJA8Xbp",
        "colab_type": "code",
        "colab": {}
      },
      "source": [
        "# import Albumentations package\n",
        "import albumentations as A\n",
        "import matplotlib.pyplot as plt\n",
        "\n",
        "\n",
        "# Initialize an augmentation\n",
        "gaus_noise = A.GaussNoise() # gaussian noise\n",
        "\n",
        "image = '/content/1cceb53f-a031-44d2-9a82-e6f8881ac48c.jpg'\n",
        "# Apply augmentation\n",
        "img_gaus = gaus_noise(image = image)\n",
        "\n",
        "# Access the augmented image by the 'image' key\n",
        "img_augmented = img_gaus['image']"
      ],
      "execution_count": 0,
      "outputs": []
    },
    {
      "cell_type": "code",
      "metadata": {
        "id": "_jauhYa_GMiu",
        "colab_type": "code",
        "colab": {}
      },
      "source": [
        "#plt.show(img_augmented)"
      ],
      "execution_count": 0,
      "outputs": []
    },
    {
      "cell_type": "code",
      "metadata": {
        "id": "_19eKYx9Gff3",
        "colab_type": "code",
        "colab": {}
      },
      "source": [
        "def show_img(img):\n",
        "    plt.figure(figsize=(18,15))\n",
        "  \n",
        "    plt.show(img_augmented)"
      ],
      "execution_count": 0,
      "outputs": []
    }
  ]
}